{
 "cells": [
  {
   "cell_type": "code",
   "execution_count": 2,
   "metadata": {},
   "outputs": [
    {
     "name": "stderr",
     "output_type": "stream",
     "text": [
      "C:\\Users\\jsy11\\AppData\\Local\\Temp\\ipykernel_3852\\1520460610.py:7: DeprecationWarning: \n",
      "Pyarrow will become a required dependency of pandas in the next major release of pandas (pandas 3.0),\n",
      "(to allow more performant data types, such as the Arrow string type, and better interoperability with other libraries)\n",
      "but was not found to be installed on your system.\n",
      "If this would cause problems for you,\n",
      "please provide us feedback at https://github.com/pandas-dev/pandas/issues/54466\n",
      "        \n",
      "  import pandas as pd\n"
     ]
    }
   ],
   "source": [
    "import openai\n",
    "from dotenv import load_dotenv\n",
    "# from scipy.spatial.distance import cosine\n",
    "import os\n",
    "from openai import OpenAI\n",
    "import pickle\n",
    "import pandas as pd\n",
    "import re"
   ]
  },
  {
   "cell_type": "code",
   "execution_count": 3,
   "metadata": {},
   "outputs": [],
   "source": [
    "load_dotenv()\n",
    "openai.api_key = os.getenv(\"OPENAI_API_KEY\")\n",
    "client = OpenAI()"
   ]
  },
  {
   "cell_type": "code",
   "execution_count": 4,
   "metadata": {},
   "outputs": [],
   "source": [
    "# 피클 파일에서 데이터 로드\n",
    "def load_book_data(file_path):\n",
    "    with open(file_path, \"rb\") as file:\n",
    "        book_data = pickle.load(file)\n",
    "    return book_data"
   ]
  },
  {
   "cell_type": "code",
   "execution_count": 5,
   "metadata": {},
   "outputs": [],
   "source": [
    "df = pd.read_pickle(\"../../processed/test4.pkl\")"
   ]
  },
  {
   "cell_type": "code",
   "execution_count": 6,
   "metadata": {},
   "outputs": [
    {
     "data": {
      "text/html": [
       "<div>\n",
       "<style scoped>\n",
       "    .dataframe tbody tr th:only-of-type {\n",
       "        vertical-align: middle;\n",
       "    }\n",
       "\n",
       "    .dataframe tbody tr th {\n",
       "        vertical-align: top;\n",
       "    }\n",
       "\n",
       "    .dataframe thead th {\n",
       "        text-align: right;\n",
       "    }\n",
       "</style>\n",
       "<table border=\"1\" class=\"dataframe\">\n",
       "  <thead>\n",
       "    <tr style=\"text-align: right;\">\n",
       "      <th></th>\n",
       "      <th>Page</th>\n",
       "      <th>Tokens</th>\n",
       "      <th>n_tokens</th>\n",
       "      <th>embedding</th>\n",
       "    </tr>\n",
       "  </thead>\n",
       "  <tbody>\n",
       "    <tr>\n",
       "      <th>1</th>\n",
       "      <td>2</td>\n",
       "      <td>['About', 'This', 'eBook', 'ePUB', 'is', 'an',...</td>\n",
       "      <td>618</td>\n",
       "      <td>[0.0027860531117767096, 0.008122052997350693, ...</td>\n",
       "    </tr>\n",
       "    <tr>\n",
       "      <th>2</th>\n",
       "      <td>3</td>\n",
       "      <td>['Security', 'in', 'Computing', 'FIFTH', 'EDIT...</td>\n",
       "      <td>130</td>\n",
       "      <td>[0.014323357492685318, -0.003350171959027648, ...</td>\n",
       "    </tr>\n",
       "    <tr>\n",
       "      <th>3</th>\n",
       "      <td>4</td>\n",
       "      <td>['Many', 'of', 'the', 'designations', 'used', ...</td>\n",
       "      <td>1105</td>\n",
       "      <td>[-0.00623887125402689, -0.011925099417567253, ...</td>\n",
       "    </tr>\n",
       "    <tr>\n",
       "      <th>4</th>\n",
       "      <td>5</td>\n",
       "      <td>['Executive', 'Editor', 'Bernard', 'Goodwin', ...</td>\n",
       "      <td>108</td>\n",
       "      <td>[-0.012079219333827496, 0.002936786040663719, ...</td>\n",
       "    </tr>\n",
       "    <tr>\n",
       "      <th>5</th>\n",
       "      <td>6</td>\n",
       "      <td>['To', 'Willis', 'Ware', 'a', 'hero', 'of', 'c...</td>\n",
       "      <td>31</td>\n",
       "      <td>[-0.00888099242001772, -0.012829650193452835, ...</td>\n",
       "    </tr>\n",
       "    <tr>\n",
       "      <th>...</th>\n",
       "      <td>...</td>\n",
       "      <td>...</td>\n",
       "      <td>...</td>\n",
       "      <td>...</td>\n",
       "    </tr>\n",
       "    <tr>\n",
       "      <th>1005</th>\n",
       "      <td>1006</td>\n",
       "      <td>['Big', 'Data', 'Conclusion', 'Exercises', 'Cl...</td>\n",
       "      <td>421</td>\n",
       "      <td>[-0.013197178021073341, -0.0050868378020823, 0...</td>\n",
       "    </tr>\n",
       "    <tr>\n",
       "      <th>1006</th>\n",
       "      <td>1007</td>\n",
       "      <td>['PrivacyPreserving', 'Data', 'Mining', 'Priva...</td>\n",
       "      <td>497</td>\n",
       "      <td>[-0.01291818916797638, -0.014100742526352406, ...</td>\n",
       "    </tr>\n",
       "    <tr>\n",
       "      <th>1007</th>\n",
       "      <td>1008</td>\n",
       "      <td>['Human', 'Vandals', 'Interception', 'of', 'Se...</td>\n",
       "      <td>585</td>\n",
       "      <td>[-0.013505895622074604, -0.02323957160115242, ...</td>\n",
       "    </tr>\n",
       "    <tr>\n",
       "      <th>1008</th>\n",
       "      <td>1009</td>\n",
       "      <td>['Situation', 'IX', 'True', 'Representation', ...</td>\n",
       "      <td>417</td>\n",
       "      <td>[0.018290884792804718, -0.005117486231029034, ...</td>\n",
       "    </tr>\n",
       "    <tr>\n",
       "      <th>1009</th>\n",
       "      <td>1010</td>\n",
       "      <td>['What', 'Are', 'the', 'Critical', 'Issues', '...</td>\n",
       "      <td>78</td>\n",
       "      <td>[-0.015322505496442318, -0.008673368953168392,...</td>\n",
       "    </tr>\n",
       "  </tbody>\n",
       "</table>\n",
       "<p>1009 rows × 4 columns</p>\n",
       "</div>"
      ],
      "text/plain": [
       "      Page                                             Tokens  n_tokens  \\\n",
       "1        2  ['About', 'This', 'eBook', 'ePUB', 'is', 'an',...       618   \n",
       "2        3  ['Security', 'in', 'Computing', 'FIFTH', 'EDIT...       130   \n",
       "3        4  ['Many', 'of', 'the', 'designations', 'used', ...      1105   \n",
       "4        5  ['Executive', 'Editor', 'Bernard', 'Goodwin', ...       108   \n",
       "5        6  ['To', 'Willis', 'Ware', 'a', 'hero', 'of', 'c...        31   \n",
       "...    ...                                                ...       ...   \n",
       "1005  1006  ['Big', 'Data', 'Conclusion', 'Exercises', 'Cl...       421   \n",
       "1006  1007  ['PrivacyPreserving', 'Data', 'Mining', 'Priva...       497   \n",
       "1007  1008  ['Human', 'Vandals', 'Interception', 'of', 'Se...       585   \n",
       "1008  1009  ['Situation', 'IX', 'True', 'Representation', ...       417   \n",
       "1009  1010  ['What', 'Are', 'the', 'Critical', 'Issues', '...        78   \n",
       "\n",
       "                                              embedding  \n",
       "1     [0.0027860531117767096, 0.008122052997350693, ...  \n",
       "2     [0.014323357492685318, -0.003350171959027648, ...  \n",
       "3     [-0.00623887125402689, -0.011925099417567253, ...  \n",
       "4     [-0.012079219333827496, 0.002936786040663719, ...  \n",
       "5     [-0.00888099242001772, -0.012829650193452835, ...  \n",
       "...                                                 ...  \n",
       "1005  [-0.013197178021073341, -0.0050868378020823, 0...  \n",
       "1006  [-0.01291818916797638, -0.014100742526352406, ...  \n",
       "1007  [-0.013505895622074604, -0.02323957160115242, ...  \n",
       "1008  [0.018290884792804718, -0.005117486231029034, ...  \n",
       "1009  [-0.015322505496442318, -0.008673368953168392,...  \n",
       "\n",
       "[1009 rows x 4 columns]"
      ]
     },
     "execution_count": 6,
     "metadata": {},
     "output_type": "execute_result"
    }
   ],
   "source": [
    "df"
   ]
  },
  {
   "cell_type": "code",
   "execution_count": 33,
   "metadata": {},
   "outputs": [],
   "source": [
    "QnA={'Q':[],\n",
    "     'A':[]}"
   ]
  },
  {
   "cell_type": "code",
   "execution_count": 7,
   "metadata": {},
   "outputs": [],
   "source": [
    "def extract_q_and_a(question):\n",
    "    # Split the question into lines\n",
    "    lines = question.split('\\n')\n",
    "    \n",
    "    # Initialize variables for Q and A\n",
    "    q_part = \"\"\n",
    "    a_part = \"\"\n",
    "    \n",
    "    # Iterate through lines to find Q: or 질문: and A: or 답변:\n",
    "    for line in lines:\n",
    "        if line.startswith(\"Q:\") or line.startswith(\"질문:\"):\n",
    "            q_part = line.strip()\n",
    "        elif line.startswith(\"A:\") or line.startswith(\"답변:\"):\n",
    "            a_part = line.strip()\n",
    "    \n",
    "        # Replace 질문: with Q: only when 질문: is present\n",
    "        if \"질문:\" in q_part:\n",
    "            q_part = q_part.replace(\"질문:\", \"Q:\")\n",
    "\n",
    "        # Replace 답변: with A: only when 답변: is present\n",
    "        if \"답변:\" in a_part:\n",
    "            a_part = a_part.replace(\"답변:\", \"A:\")\n",
    "\n",
    "        # Make sure Q: is always at the beginning\n",
    "        if not q_part.startswith(\"Q:\"):\n",
    "            q_part = f\"Q: {q_part}\"\n",
    "    return q_part, a_part"
   ]
  },
  {
   "cell_type": "code",
   "execution_count": 8,
   "metadata": {},
   "outputs": [],
   "source": [
    "def generate_quiz_question(context, model=\"gpt-3.5-turbo\"):\n",
    "    try:\n",
    "        response = client.chat.completions.create(\n",
    "            model=model,\n",
    "            messages=[\n",
    "                {\n",
    "                    \"role\": \"system\",\n",
    "                    \"content\": \"You have to make a quiz about computer security, and you have to make a question that can be answered in a sentence rather than a four-point first answer. And there should be no problems using pictures and tables. Q: A:\",\n",
    "                },\n",
    "                {\n",
    "                    \"role\": \"user\",\n",
    "                    \"content\": f\"Context: {context}\\n\\n---\\n\\n, 한국어로 대답해줘.\",\n",
    "                },\n",
    "            ],\n",
    "            temperature=0,\n",
    "        )\n",
    "        generated_question = response.choices[0].message.content\n",
    "\n",
    "        # Extract Q: or 질문: and A: or 답변: parts\n",
    "        q_part, a_part = extract_q_and_a(generated_question)\n",
    "\n",
    "        # Return Q and A as a dictionary to ensure order\n",
    "        return {\"Q\": q_part, \"A\": a_part}\n",
    "    except Exception as e:\n",
    "        print(\"Error occurred:\", e)\n",
    "        return {\"Q\": \"I don't know\", \"A\": \"I don't know\"}\n"
   ]
  },
  {
   "cell_type": "code",
   "execution_count": 9,
   "metadata": {},
   "outputs": [],
   "source": [
    "# 피클 파일에서 로드한 데이터에서 랜덤한 문장을 선택하여 퀴즈 생성\n",
    "def generate_random_quiz(df):\n",
    "    # context = df.sample()[\"Text\"].values[0]  # 예시로 랜덤하게 선택\n",
    "    context = df.sample()[\"Tokens\"].values[0]  # 예시로 랜덤하게 선택\n",
    "    question = generate_quiz_question(context)\n",
    "    return context, question"
   ]
  },
  {
   "cell_type": "code",
   "execution_count": 39,
   "metadata": {},
   "outputs": [],
   "source": [
    "context, question = generate_random_quiz(df)"
   ]
  },
  {
   "cell_type": "code",
   "execution_count": 40,
   "metadata": {},
   "outputs": [
    {
     "data": {
      "text/plain": [
       "'Q: 보안 커널의 장점은 무엇인가요?'"
      ]
     },
     "execution_count": 40,
     "metadata": {},
     "output_type": "execute_result"
    }
   ],
   "source": [
    "question['Q']"
   ]
  },
  {
   "cell_type": "code",
   "execution_count": 41,
   "metadata": {},
   "outputs": [
    {
     "data": {
      "text/plain": [
       "'A: 보안 커널의 장점은 보안 기능을 격리시켜 보호하고, 추적 가능하며, 변경 가능하며, 간결하며, 검증 가능하다는 것입니다.'"
      ]
     },
     "execution_count": 41,
     "metadata": {},
     "output_type": "execute_result"
    }
   ],
   "source": [
    "question['A']"
   ]
  },
  {
   "cell_type": "code",
   "execution_count": 42,
   "metadata": {},
   "outputs": [],
   "source": [
    "QnA['Q'].append(question['Q'])\n",
    "QnA['A'].append(question['A'])"
   ]
  },
  {
   "cell_type": "code",
   "execution_count": 43,
   "metadata": {},
   "outputs": [
    {
     "data": {
      "text/plain": [
       "{'Q': ['Q: DES 알고리즘은 어떤 종류의 연산을 사용하여 구현될 수 있나요?', 'Q: 보안 커널의 장점은 무엇인가요?'],\n",
       " 'A': ['A: DES 알고리즘은 테이블 조회와 논리 연산(AND, OR, XOR)을 사용하여 구현될 수 있습니다.',\n",
       "  'A: 보안 커널의 장점은 보안 기능을 격리시켜 보호하고, 추적 가능하며, 변경 가능하며, 간결하며, 검증 가능하다는 것입니다.']}"
      ]
     },
     "execution_count": 43,
     "metadata": {},
     "output_type": "execute_result"
    }
   ],
   "source": [
    "QnA"
   ]
  },
  {
   "cell_type": "code",
   "execution_count": 34,
   "metadata": {},
   "outputs": [
    {
     "data": {
      "text/plain": [
       "0"
      ]
     },
     "execution_count": 34,
     "metadata": {},
     "output_type": "execute_result"
    }
   ],
   "source": [
    "len(QnA['Q'])"
   ]
  },
  {
   "cell_type": "code",
   "execution_count": 45,
   "metadata": {},
   "outputs": [
    {
     "data": {
      "text/plain": [
       "'Q: DES 알고리즘은 어떤 종류의 연산을 사용하여 구현될 수 있나요?'"
      ]
     },
     "execution_count": 45,
     "metadata": {},
     "output_type": "execute_result"
    }
   ],
   "source": [
    "QnA['Q'][0]"
   ]
  }
 ],
 "metadata": {
  "kernelspec": {
   "display_name": "study",
   "language": "python",
   "name": "python3"
  },
  "language_info": {
   "codemirror_mode": {
    "name": "ipython",
    "version": 3
   },
   "file_extension": ".py",
   "mimetype": "text/x-python",
   "name": "python",
   "nbconvert_exporter": "python",
   "pygments_lexer": "ipython3",
   "version": "3.11.7"
  }
 },
 "nbformat": 4,
 "nbformat_minor": 2
}
